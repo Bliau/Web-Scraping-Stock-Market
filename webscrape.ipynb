{
 "cells": [
  {
   "cell_type": "code",
   "execution_count": 27,
   "source": [
    "#importing all the required module\r\n",
    "\r\n",
    "import yfinance as yf\r\n",
    "import pandas as pd\r\n",
    "import requests\r\n",
    "from bs4 import BeautifulSoup as soup\r\n",
    "import plotly.graph_objects as go\r\n",
    "import plotly.io as pio\r\n",
    "from plotly.subplots import make_subplots"
   ],
   "outputs": [],
   "metadata": {}
  },
  {
   "cell_type": "code",
   "execution_count": 4,
   "source": [
    "def make_graph(stock_data, revenue_data, stock):\r\n",
    "    fig = make_subplots(rows=2, cols=1, shared_xaxes=True, subplot_titles=(\"Historical Share Price\", \"Historical Revenue\"), vertical_spacing = .3)\r\n",
    "    fig.add_trace(go.Scatter(x=pd.to_datetime(stock_data.Date, infer_datetime_format=True), y=stock_data.Close.astype(\"float\"), name=\"Share Price\"), row=1, col=1)\r\n",
    "    fig.add_trace(go.Scatter(x=pd.to_datetime(revenue_data.Date, infer_datetime_format=True), y=revenue_data.Revenue.astype(\"float\"), name=\"Revenue\"), row=2, col=1)\r\n",
    "    fig.update_xaxes(title_text=\"Date\", row=1, col=1)\r\n",
    "    fig.update_xaxes(title_text=\"Date\", row=2, col=1)\r\n",
    "    fig.update_yaxes(title_text=\"Price ($US)\", row=1, col=1)\r\n",
    "    fig.update_yaxes(title_text=\"Revenue ($US Millions)\", row=2, col=1)\r\n",
    "    fig.update_layout(showlegend=False,\r\n",
    "    height=900,\r\n",
    "    title=stock,\r\n",
    "    xaxis_rangeslider_visible=True)\r\n",
    "    fig.show()"
   ],
   "outputs": [],
   "metadata": {}
  },
  {
   "cell_type": "code",
   "execution_count": 5,
   "source": [
    "tesla = yf.Ticker(\"TSLA\")"
   ],
   "outputs": [],
   "metadata": {}
  },
  {
   "cell_type": "code",
   "execution_count": 6,
   "source": [
    "tesla_data = tesla.history(period=\"max\")"
   ],
   "outputs": [],
   "metadata": {}
  },
  {
   "cell_type": "code",
   "execution_count": null,
   "source": [
    "tesla_data.reset_index(inplace=True)\r\n",
    "tesla_data.head()"
   ],
   "outputs": [],
   "metadata": {}
  },
  {
   "cell_type": "code",
   "execution_count": 8,
   "source": [
    "#using the request to get the data from the website\r\n",
    "\r\n",
    "from urllib.request import urlopen as uReq\r\n",
    "my_url_tsla = ' https://www.macrotrends.net/stocks/charts/TSLA/tesla/revenue'\r\n",
    "uClient = uReq(my_url_tsla)\r\n",
    "html_data = uClient.read()\r\n",
    "uClient.close()"
   ],
   "outputs": [],
   "metadata": {}
  },
  {
   "cell_type": "code",
   "execution_count": 9,
   "source": [
    "page_soup_tsla = soup(html_data, \"html.parser\")"
   ],
   "outputs": [],
   "metadata": {}
  },
  {
   "cell_type": "code",
   "execution_count": 10,
   "source": [
    "tesla_revenue = pd.DataFrame(columns=[\"Date\", \"Revenue\"])\r\n",
    "\r\n",
    "tesla_data_html = page_soup_tsla.findAll(\"div\",{\"class\":\"col-xs-6\"})[1].find(\"tbody\").find_all(\"tr\")\r\n",
    "for row in tesla_data_html:\r\n",
    "    col = row.find_all(\"td\")\r\n",
    "    date =col[0].text\r\n",
    "    revenue = col[1].text.replace(\"$\", \"\").replace(\",\", \"\")\r\n",
    "    \r\n",
    "    tesla_revenue = tesla_revenue.append({\"Date\":date, \"Revenue\": revenue}, ignore_index=True)\r\n",
    "\r\n"
   ],
   "outputs": [],
   "metadata": {}
  },
  {
   "cell_type": "code",
   "execution_count": null,
   "source": [
    "# we can now view the data\r\n",
    "tesla_revenue"
   ],
   "outputs": [],
   "metadata": {}
  },
  {
   "cell_type": "code",
   "execution_count": null,
   "source": [
    "tesla_revenue.dtypes"
   ],
   "outputs": [],
   "metadata": {}
  },
  {
   "cell_type": "code",
   "execution_count": null,
   "source": [
    "# tesla_revenue['Revenue'] = tesla_revenue.Revenue.astype(float)\r\n",
    "tesla_revenue[\"Revenue\"] = pd.to_numeric(tesla_revenue[\"Revenue\"], downcast=\"float\")\r\n",
    "tesla_revenue.tail(5)"
   ],
   "outputs": [],
   "metadata": {}
  },
  {
   "cell_type": "code",
   "execution_count": 14,
   "source": [
    "GameStop = yf.Ticker(\"GME\")"
   ],
   "outputs": [],
   "metadata": {}
  },
  {
   "cell_type": "code",
   "execution_count": 15,
   "source": [
    "gme_data = GameStop.history(period=\"max\")"
   ],
   "outputs": [],
   "metadata": {}
  },
  {
   "cell_type": "code",
   "execution_count": null,
   "source": [
    "gme_data.reset_index(inplace=True)\r\n",
    "gme_data.head()"
   ],
   "outputs": [],
   "metadata": {}
  },
  {
   "cell_type": "code",
   "execution_count": 17,
   "source": [
    "from urllib.request import urlopen as uReq\r\n",
    "my_url_gme = 'https://www.macrotrends.net/stocks/charts/GME/gamestop/revenue'\r\n",
    "uClient = uReq(my_url_gme)\r\n",
    "html_data = uClient.read()\r\n",
    "uClient.close()"
   ],
   "outputs": [],
   "metadata": {}
  },
  {
   "cell_type": "code",
   "execution_count": 19,
   "source": [
    "page_soup_gme = soup(html_data, \"html.parser\")"
   ],
   "outputs": [],
   "metadata": {}
  },
  {
   "cell_type": "code",
   "execution_count": 20,
   "source": [
    "gme_revenue = pd.DataFrame(columns=[\"Date\", \"Revenue\"])\r\n",
    "\r\n",
    "gme_data_html = page_soup_gme.findAll(\"div\",{\"class\":\"col-xs-6\"})[1].find(\"tbody\").find_all(\"tr\")\r\n",
    "for row in gme_data_html:\r\n",
    "    col = row.find_all(\"td\")\r\n",
    "    date =col[0].text\r\n",
    "    revenue = col[1].text.replace(\"$\", \"\").replace(\",\", \"\")\r\n",
    "    \r\n",
    "    gme_revenue = gme_revenue.append({\"Date\":date, \"Revenue\":revenue}, ignore_index=True)"
   ],
   "outputs": [],
   "metadata": {}
  },
  {
   "cell_type": "code",
   "execution_count": null,
   "source": [
    "gme_revenue"
   ],
   "outputs": [],
   "metadata": {}
  },
  {
   "cell_type": "code",
   "execution_count": 22,
   "source": [
    "gme_revenue['Revenue'] = pd.to_numeric(gme_revenue['Revenue'], downcast=\"float\")\r\n",
    "# gme_revenue['Revenue'] = gme_revenue.Revenue.astype(float)"
   ],
   "outputs": [],
   "metadata": {}
  },
  {
   "cell_type": "code",
   "execution_count": null,
   "source": [
    "gme_revenue.tail(5)"
   ],
   "outputs": [],
   "metadata": {}
  }
 ],
 "metadata": {
  "orig_nbformat": 4,
  "language_info": {
   "name": "python"
  }
 },
 "nbformat": 4,
 "nbformat_minor": 2
}